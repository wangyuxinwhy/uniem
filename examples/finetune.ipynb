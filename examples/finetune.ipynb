{
 "cells": [
  {
   "attachments": {},
   "cell_type": "markdown",
   "metadata": {},
   "source": [
    "# 微调 M3E\n",
    "\n",
    "👏🏻 欢迎来到 M3E 的微调教程，在这里您将学习到如何使用 uniem 库提供的 `FineTuner` 对 M3E 模型进行微调。"
   ]
  },
  {
   "cell_type": "code",
   "execution_count": 1,
   "metadata": {},
   "outputs": [
    {
     "name": "stdout",
     "output_type": "stream",
     "text": [
      "Requirement already satisfied: uniem in /Users/wangyuxin/opt/miniconda3/envs/uniem/lib/python3.10/site-packages (0.2.1)\n",
      "Requirement already satisfied: accelerate<0.20.0,>=0.19.0 in /Users/wangyuxin/opt/miniconda3/envs/uniem/lib/python3.10/site-packages (from uniem) (0.19.0)\n",
      "Requirement already satisfied: datasets<3.0.0,>=2.12.0 in /Users/wangyuxin/opt/miniconda3/envs/uniem/lib/python3.10/site-packages (from uniem) (2.13.0)\n",
      "Requirement already satisfied: torch<3.0.0,>=2.0.0 in /Users/wangyuxin/opt/miniconda3/envs/uniem/lib/python3.10/site-packages (from uniem) (2.0.1)\n",
      "Requirement already satisfied: tqdm<5.0.0,>=4.65.0 in /Users/wangyuxin/opt/miniconda3/envs/uniem/lib/python3.10/site-packages (from uniem) (4.65.0)\n",
      "Requirement already satisfied: transformers<5.0.0,>=4.28.0 in /Users/wangyuxin/opt/miniconda3/envs/uniem/lib/python3.10/site-packages (from uniem) (4.30.2)\n",
      "Requirement already satisfied: typer[all]<0.10.0,>=0.9.0 in /Users/wangyuxin/opt/miniconda3/envs/uniem/lib/python3.10/site-packages (from uniem) (0.9.0)\n",
      "Requirement already satisfied: numpy>=1.17 in /Users/wangyuxin/opt/miniconda3/envs/uniem/lib/python3.10/site-packages (from accelerate<0.20.0,>=0.19.0->uniem) (1.25.0)\n",
      "Requirement already satisfied: packaging>=20.0 in /Users/wangyuxin/opt/miniconda3/envs/uniem/lib/python3.10/site-packages (from accelerate<0.20.0,>=0.19.0->uniem) (23.1)\n",
      "Requirement already satisfied: psutil in /Users/wangyuxin/opt/miniconda3/envs/uniem/lib/python3.10/site-packages (from accelerate<0.20.0,>=0.19.0->uniem) (5.9.0)\n",
      "Requirement already satisfied: pyyaml in /Users/wangyuxin/opt/miniconda3/envs/uniem/lib/python3.10/site-packages (from accelerate<0.20.0,>=0.19.0->uniem) (6.0)\n",
      "Requirement already satisfied: pyarrow>=8.0.0 in /Users/wangyuxin/opt/miniconda3/envs/uniem/lib/python3.10/site-packages (from datasets<3.0.0,>=2.12.0->uniem) (12.0.1)\n",
      "Requirement already satisfied: dill<0.3.7,>=0.3.0 in /Users/wangyuxin/opt/miniconda3/envs/uniem/lib/python3.10/site-packages (from datasets<3.0.0,>=2.12.0->uniem) (0.3.6)\n",
      "Requirement already satisfied: pandas in /Users/wangyuxin/opt/miniconda3/envs/uniem/lib/python3.10/site-packages (from datasets<3.0.0,>=2.12.0->uniem) (2.0.2)\n",
      "Requirement already satisfied: requests>=2.19.0 in /Users/wangyuxin/opt/miniconda3/envs/uniem/lib/python3.10/site-packages (from datasets<3.0.0,>=2.12.0->uniem) (2.31.0)\n",
      "Requirement already satisfied: xxhash in /Users/wangyuxin/opt/miniconda3/envs/uniem/lib/python3.10/site-packages (from datasets<3.0.0,>=2.12.0->uniem) (3.2.0)\n",
      "Requirement already satisfied: multiprocess in /Users/wangyuxin/opt/miniconda3/envs/uniem/lib/python3.10/site-packages (from datasets<3.0.0,>=2.12.0->uniem) (0.70.14)\n",
      "Requirement already satisfied: fsspec[http]>=2021.11.1 in /Users/wangyuxin/opt/miniconda3/envs/uniem/lib/python3.10/site-packages (from datasets<3.0.0,>=2.12.0->uniem) (2023.6.0)\n",
      "Requirement already satisfied: aiohttp in /Users/wangyuxin/opt/miniconda3/envs/uniem/lib/python3.10/site-packages (from datasets<3.0.0,>=2.12.0->uniem) (3.8.4)\n",
      "Requirement already satisfied: huggingface-hub<1.0.0,>=0.11.0 in /Users/wangyuxin/opt/miniconda3/envs/uniem/lib/python3.10/site-packages (from datasets<3.0.0,>=2.12.0->uniem) (0.15.1)\n",
      "Requirement already satisfied: filelock in /Users/wangyuxin/opt/miniconda3/envs/uniem/lib/python3.10/site-packages (from torch<3.0.0,>=2.0.0->uniem) (3.12.2)\n",
      "Requirement already satisfied: typing-extensions in /Users/wangyuxin/opt/miniconda3/envs/uniem/lib/python3.10/site-packages (from torch<3.0.0,>=2.0.0->uniem) (4.6.3)\n",
      "Requirement already satisfied: sympy in /Users/wangyuxin/opt/miniconda3/envs/uniem/lib/python3.10/site-packages (from torch<3.0.0,>=2.0.0->uniem) (1.12)\n",
      "Requirement already satisfied: networkx in /Users/wangyuxin/opt/miniconda3/envs/uniem/lib/python3.10/site-packages (from torch<3.0.0,>=2.0.0->uniem) (3.1)\n",
      "Requirement already satisfied: jinja2 in /Users/wangyuxin/opt/miniconda3/envs/uniem/lib/python3.10/site-packages (from torch<3.0.0,>=2.0.0->uniem) (3.1.2)\n",
      "Requirement already satisfied: regex!=2019.12.17 in /Users/wangyuxin/opt/miniconda3/envs/uniem/lib/python3.10/site-packages (from transformers<5.0.0,>=4.28.0->uniem) (2023.6.3)\n",
      "Requirement already satisfied: tokenizers!=0.11.3,<0.14,>=0.11.1 in /Users/wangyuxin/opt/miniconda3/envs/uniem/lib/python3.10/site-packages (from transformers<5.0.0,>=4.28.0->uniem) (0.13.3)\n",
      "Requirement already satisfied: safetensors>=0.3.1 in /Users/wangyuxin/opt/miniconda3/envs/uniem/lib/python3.10/site-packages (from transformers<5.0.0,>=4.28.0->uniem) (0.3.1)\n",
      "Requirement already satisfied: click<9.0.0,>=7.1.1 in /Users/wangyuxin/opt/miniconda3/envs/uniem/lib/python3.10/site-packages (from typer[all]<0.10.0,>=0.9.0->uniem) (8.1.3)\n",
      "Requirement already satisfied: colorama<0.5.0,>=0.4.3 in /Users/wangyuxin/opt/miniconda3/envs/uniem/lib/python3.10/site-packages (from typer[all]<0.10.0,>=0.9.0->uniem) (0.4.6)\n",
      "Requirement already satisfied: shellingham<2.0.0,>=1.3.0 in /Users/wangyuxin/opt/miniconda3/envs/uniem/lib/python3.10/site-packages (from typer[all]<0.10.0,>=0.9.0->uniem) (1.5.0.post1)\n",
      "Requirement already satisfied: rich<14.0.0,>=10.11.0 in /Users/wangyuxin/opt/miniconda3/envs/uniem/lib/python3.10/site-packages (from typer[all]<0.10.0,>=0.9.0->uniem) (13.4.2)\n",
      "Requirement already satisfied: attrs>=17.3.0 in /Users/wangyuxin/opt/miniconda3/envs/uniem/lib/python3.10/site-packages (from aiohttp->datasets<3.0.0,>=2.12.0->uniem) (23.1.0)\n",
      "Requirement already satisfied: charset-normalizer<4.0,>=2.0 in /Users/wangyuxin/opt/miniconda3/envs/uniem/lib/python3.10/site-packages (from aiohttp->datasets<3.0.0,>=2.12.0->uniem) (3.1.0)\n",
      "Requirement already satisfied: multidict<7.0,>=4.5 in /Users/wangyuxin/opt/miniconda3/envs/uniem/lib/python3.10/site-packages (from aiohttp->datasets<3.0.0,>=2.12.0->uniem) (6.0.4)\n",
      "Requirement already satisfied: async-timeout<5.0,>=4.0.0a3 in /Users/wangyuxin/opt/miniconda3/envs/uniem/lib/python3.10/site-packages (from aiohttp->datasets<3.0.0,>=2.12.0->uniem) (4.0.2)\n",
      "Requirement already satisfied: yarl<2.0,>=1.0 in /Users/wangyuxin/opt/miniconda3/envs/uniem/lib/python3.10/site-packages (from aiohttp->datasets<3.0.0,>=2.12.0->uniem) (1.9.2)\n",
      "Requirement already satisfied: frozenlist>=1.1.1 in /Users/wangyuxin/opt/miniconda3/envs/uniem/lib/python3.10/site-packages (from aiohttp->datasets<3.0.0,>=2.12.0->uniem) (1.3.3)\n",
      "Requirement already satisfied: aiosignal>=1.1.2 in /Users/wangyuxin/opt/miniconda3/envs/uniem/lib/python3.10/site-packages (from aiohttp->datasets<3.0.0,>=2.12.0->uniem) (1.3.1)\n",
      "Requirement already satisfied: idna<4,>=2.5 in /Users/wangyuxin/opt/miniconda3/envs/uniem/lib/python3.10/site-packages (from requests>=2.19.0->datasets<3.0.0,>=2.12.0->uniem) (3.4)\n",
      "Requirement already satisfied: urllib3<3,>=1.21.1 in /Users/wangyuxin/opt/miniconda3/envs/uniem/lib/python3.10/site-packages (from requests>=2.19.0->datasets<3.0.0,>=2.12.0->uniem) (2.0.3)\n",
      "Requirement already satisfied: certifi>=2017.4.17 in /Users/wangyuxin/opt/miniconda3/envs/uniem/lib/python3.10/site-packages (from requests>=2.19.0->datasets<3.0.0,>=2.12.0->uniem) (2023.5.7)\n",
      "Requirement already satisfied: markdown-it-py>=2.2.0 in /Users/wangyuxin/opt/miniconda3/envs/uniem/lib/python3.10/site-packages (from rich<14.0.0,>=10.11.0->typer[all]<0.10.0,>=0.9.0->uniem) (3.0.0)\n",
      "Requirement already satisfied: pygments<3.0.0,>=2.13.0 in /Users/wangyuxin/opt/miniconda3/envs/uniem/lib/python3.10/site-packages (from rich<14.0.0,>=10.11.0->typer[all]<0.10.0,>=0.9.0->uniem) (2.15.1)\n",
      "Requirement already satisfied: MarkupSafe>=2.0 in /Users/wangyuxin/opt/miniconda3/envs/uniem/lib/python3.10/site-packages (from jinja2->torch<3.0.0,>=2.0.0->uniem) (2.1.3)\n",
      "Requirement already satisfied: python-dateutil>=2.8.2 in /Users/wangyuxin/opt/miniconda3/envs/uniem/lib/python3.10/site-packages (from pandas->datasets<3.0.0,>=2.12.0->uniem) (2.8.2)\n",
      "Requirement already satisfied: pytz>=2020.1 in /Users/wangyuxin/opt/miniconda3/envs/uniem/lib/python3.10/site-packages (from pandas->datasets<3.0.0,>=2.12.0->uniem) (2023.3)\n",
      "Requirement already satisfied: tzdata>=2022.1 in /Users/wangyuxin/opt/miniconda3/envs/uniem/lib/python3.10/site-packages (from pandas->datasets<3.0.0,>=2.12.0->uniem) (2023.3)\n",
      "Requirement already satisfied: mpmath>=0.19 in /Users/wangyuxin/opt/miniconda3/envs/uniem/lib/python3.10/site-packages (from sympy->torch<3.0.0,>=2.0.0->uniem) (1.3.0)\n",
      "Requirement already satisfied: mdurl~=0.1 in /Users/wangyuxin/opt/miniconda3/envs/uniem/lib/python3.10/site-packages (from markdown-it-py>=2.2.0->rich<14.0.0,>=10.11.0->typer[all]<0.10.0,>=0.9.0->uniem) (0.1.2)\n",
      "Requirement already satisfied: six>=1.5 in /Users/wangyuxin/opt/miniconda3/envs/uniem/lib/python3.10/site-packages (from python-dateutil>=2.8.2->pandas->datasets<3.0.0,>=2.12.0->uniem) (1.16.0)\n"
     ]
    }
   ],
   "source": [
    "# 最开始肯定是安装 `uniem` 库了 😉\n",
    "!pip install uniem"
   ]
  },
  {
   "attachments": {},
   "cell_type": "markdown",
   "metadata": {},
   "source": [
    "`uniem` 已经安装完成了，让先看一个简单的例子，来感受一下微调的过程。"
   ]
  },
  {
   "cell_type": "code",
   "execution_count": 2,
   "metadata": {},
   "outputs": [
    {
     "name": "stderr",
     "output_type": "stream",
     "text": [
      "/Users/wangyuxin/opt/miniconda3/envs/uniem/lib/python3.10/site-packages/tqdm/auto.py:21: TqdmWarning: IProgress not found. Please update jupyter and ipywidgets. See https://ipywidgets.readthedocs.io/en/stable/user_install.html\n",
      "  from .autonotebook import tqdm as notebook_tqdm\n",
      "Downloading builder script: 4.92kB [00:00, 5.73MB/s]\n",
      "Downloading readme: 5.78kB [00:00, 7.24MB/s]\n",
      "Found cached dataset nli_zh (/Users/wangyuxin/.cache/huggingface/datasets/shibing624___nli_zh/STS-B/1.0.0/65b555276ee420c801e1c9eb830db959e37f42fa60c68c8b07a4448b8c436706)\n",
      "100%|██████████| 3/3 [00:00<00:00, 444.83it/s]\n"
     ]
    },
    {
     "name": "stdout",
     "output_type": "stream",
     "text": [
      "Start with seed: 42\n",
      "Output dir: finetuned-model\n",
      "Start training for 1 epochs\n"
     ]
    },
    {
     "name": "stderr",
     "output_type": "stream",
     "text": [
      "Epoch 1/1 - loss: 5.4445: 100%|██████████| 163/163 [00:32<00:00,  5.06it/s]\n"
     ]
    },
    {
     "name": "stdout",
     "output_type": "stream",
     "text": [
      "Training finished\n",
      "Saving model\n"
     ]
    }
   ],
   "source": [
    "from datasets import load_dataset\n",
    "from uniem.finetuner import FineTuner\n",
    "\n",
    "dataset = load_dataset('shibing624/nli_zh', 'STS-B')\n",
    "finetuner = FineTuner('moka-ai/m3e-small', dataset=dataset)\n",
    "finetuner.run(epochs=1)"
   ]
  },
  {
   "attachments": {},
   "cell_type": "markdown",
   "metadata": {},
   "source": [
    "🎉 微调已经完成了，通过 `FineTuner` 我们只需要几行代码就可以完成微调，就像魔法一样！\n",
    "\n",
    "让我们看看这背后发生了什么，为什么可以这么简单？\n",
    "\n",
    "1. `FineTuner` 会自动加载 M3E 模型，您只需要声明即可，就像例子中的 `moka-ai/m3e-small`\n",
    "2. `FineTuner` 会自动识别数据格式，只要您的数据类型在 `FineTuner` 支持的范围内，`FineTuner` 就会自动识别并加以使用\n",
    "3. `FineTuner` 会自动选择训练方式，`FineTuner` 会根据模型和数据集自动地选择训练方式，即 对比学习 或者 CoSent 等\n",
    "4. `FineTuner` 会自动选择训练环境和超参数，`FineTuner` 会根据您的硬件环境自动选择训练设备，并根据模型、数据等各种信息自动建议最佳的超参数，当然您也可以自己手动进行调整\n",
    "5. `FineTuner` 会自动保存微调记录和模型，`FineTuner` 会自动使用您环境中的 Logger (wandb, tensorboard) 来记录微调过程，同时也会自动保存微调模型\n",
    "\n",
    "总结一下，`FineTuner` 会自动完成微调所需的各种工作，只要您的数据类型在 `FineTuner` 支持的范围内！\n",
    "\n",
    "那么，让我们看看 `FineTuner` 都支持哪些类型的数据吧。"
   ]
  },
  {
   "attachments": {},
   "cell_type": "markdown",
   "metadata": {},
   "source": [
    "## FineTuner 支持的数据类型\n",
    "\n",
    "`FineTuner` 中 `dataset` 参数是一个可供迭代 (for 循环) 的数据集，每次迭代会返回一个样本，这个样本应该是以下三种格式之一：\n",
    "\n",
    "1. `PairRecord`，句对样本\n",
    "2. `TripletRecord`，句子三元组样本\n",
    "3. `ScoredPairRecord`，带有分数的句对样本"
   ]
  },
  {
   "cell_type": "code",
   "execution_count": 3,
   "metadata": {},
   "outputs": [
    {
     "name": "stdout",
     "output_type": "stream",
     "text": [
      "record_types: ['pair', 'triplet', 'scored_pair']\n"
     ]
    }
   ],
   "source": [
    "import os\n",
    "import warnings\n",
    "from uniem.data_structures import RecordType, PairRecord, TripletRecord, ScoredPairRecord\n",
    "\n",
    "os.environ['TOKENIZERS_PARALLELISM'] = 'false'\n",
    "warnings.filterwarnings('ignore')\n",
    "print(f'record_types: {[record_type.value for record_type in RecordType]}')"
   ]
  },
  {
   "attachments": {},
   "cell_type": "markdown",
   "metadata": {},
   "source": [
    "### PairRecord\n",
    "\n",
    "`PairRecord` 就是句对样本，每一个样本都代表一对相似的句子，字段的名称是 `text` 和 `text_pos`"
   ]
  },
  {
   "cell_type": "code",
   "execution_count": 4,
   "metadata": {},
   "outputs": [
    {
     "name": "stdout",
     "output_type": "stream",
     "text": [
      "pair_record: PairRecord(text='肾结石如何治疗？', text_pos='如何治愈肾结石')\n"
     ]
    }
   ],
   "source": [
    "pair_record = PairRecord(text='肾结石如何治疗？', text_pos='如何治愈肾结石')\n",
    "print(f'pair_record: {pair_record}')"
   ]
  },
  {
   "attachments": {},
   "cell_type": "markdown",
   "metadata": {},
   "source": [
    "### TripletRecord\n",
    "\n",
    "`TripletRecord` 就是句子三元组样本，在 `PairRecord` 的基础上增加了一个不相似句子负例，字段的名称是 `text`、`text_pos` 和 `text_neg`"
   ]
  },
  {
   "cell_type": "code",
   "execution_count": 5,
   "metadata": {},
   "outputs": [
    {
     "name": "stdout",
     "output_type": "stream",
     "text": [
      "triplet_record: TripletRecord(text='肾结石如何治疗？', text_pos='如何治愈肾结石', text_neg='胆结石有哪些治疗方法？')\n"
     ]
    }
   ],
   "source": [
    "triplet_record = TripletRecord(text='肾结石如何治疗？', text_pos='如何治愈肾结石', text_neg='胆结石有哪些治疗方法？')\n",
    "print(f'triplet_record: {triplet_record}')"
   ]
  },
  {
   "attachments": {},
   "cell_type": "markdown",
   "metadata": {},
   "source": [
    "### ScoredPairRecord\n",
    "\n",
    "`ScoredPairRecord` 就是带有分数的句对样本，在 `PairRecord` 的基础上添加了句对的相似分数(程度)。字段的名称是 `sentence1` 和 `sentence2`，以及 `label`。"
   ]
  },
  {
   "cell_type": "code",
   "execution_count": 6,
   "metadata": {},
   "outputs": [
    {
     "name": "stdout",
     "output_type": "stream",
     "text": [
      "scored_pair_record: ScoredPairRecord(sentence1='肾结石如何治疗？', sentence2='如何治愈肾结石', label=1.0)\n",
      "scored_pair_record: ScoredPairRecord(sentence1='肾结石如何治疗？', sentence2='胆结石有哪些治疗方法？', label=0.0)\n"
     ]
    }
   ],
   "source": [
    "# 1.0 代表相似，0.0 代表不相似\n",
    "scored_pair_record1 = ScoredPairRecord(sentence1='肾结石如何治疗？', sentence2='如何治愈肾结石', label=1.0)\n",
    "scored_pair_record2 = ScoredPairRecord(sentence1='肾结石如何治疗？', sentence2='胆结石有哪些治疗方法？', label=0.0)\n",
    "print(f'scored_pair_record: {scored_pair_record1}')\n",
    "print(f'scored_pair_record: {scored_pair_record2}')"
   ]
  },
  {
   "cell_type": "code",
   "execution_count": 7,
   "metadata": {},
   "outputs": [
    {
     "name": "stdout",
     "output_type": "stream",
     "text": [
      "scored_pair_record: ScoredPairRecord(sentence1='肾结石如何治疗？', sentence2='如何治愈肾结石', label=2.0)\n",
      "scored_pair_record: ScoredPairRecord(sentence1='肾结石如何治疗？', sentence2='胆结石有哪些治疗方法？', label=1.0)\n",
      "scored_pair_record: ScoredPairRecord(sentence1='肾结石如何治疗？', sentence2='失眠如何治疗', label=0)\n"
     ]
    }
   ],
   "source": [
    "# 2.0 代表相似，1.0 代表部分相似，0.0 代表不相似\n",
    "scored_pair_record1 = ScoredPairRecord(sentence1='肾结石如何治疗？', sentence2='如何治愈肾结石', label=2.0)\n",
    "scored_pair_record2 = ScoredPairRecord(sentence1='肾结石如何治疗？', sentence2='胆结石有哪些治疗方法？', label=1.0)\n",
    "scored_pair_record3 = ScoredPairRecord(sentence1='肾结石如何治疗？', sentence2='失眠如何治疗', label=0)\n",
    "print(f'scored_pair_record: {scored_pair_record1}')\n",
    "print(f'scored_pair_record: {scored_pair_record2}')\n",
    "print(f'scored_pair_record: {scored_pair_record3}')"
   ]
  },
  {
   "attachments": {},
   "cell_type": "markdown",
   "metadata": {},
   "source": [
    "#### 小结\n",
    "\n",
    "`FineTuner` 支持的数据类型有三种，分别是 `PairRecord`，`TripletRecord` 和 `ScoredPairRecord`，其中 `TripletRecord` 比 `PairRecord` 多了一个不相似句子负例，而 `ScoredPairRecord` 是在 `PairRecord` 的基础上添加了句对的相似分数。\n",
    "\n",
    "只要您的数据集是这三种类型之一，`FineTuner` 就可以自动识别并使用。现在让我们看看实际的例子"
   ]
  },
  {
   "attachments": {},
   "cell_type": "markdown",
   "metadata": {},
   "source": [
    "## 示例：医疗相似问题\n",
    "\n",
    "现在我们假设我们想要 HuggingFace 上托管的 vegaviazhang/Med_QQpairs 医疗数据集上做微调，让我们先把数据集下载好"
   ]
  },
  {
   "cell_type": "code",
   "execution_count": 10,
   "metadata": {},
   "outputs": [
    {
     "name": "stderr",
     "output_type": "stream",
     "text": [
      "Found cached dataset csv (/Users/wangyuxin/.cache/huggingface/datasets/vegaviazhang___csv/vegaviazhang--Med_QQpairs-20636c66bb12bff6/0.0.0/eea64c71ca8b46dd3f537ed218fc9bf495d5707789152eb2764f5c78fa66d59d)\n",
      "100%|██████████| 1/1 [00:00<00:00, 1078.78it/s]\n"
     ]
    }
   ],
   "source": [
    "from datasets import load_dataset\n",
    "\n",
    "med_dataset_dict = load_dataset('vegaviazhang/Med_QQpairs')"
   ]
  },
  {
   "attachments": {},
   "cell_type": "markdown",
   "metadata": {},
   "source": [
    "让我们查看一下 Med_QQpairs 的数据格式是不是在 `FineTuner` 支持的范围内"
   ]
  },
  {
   "cell_type": "code",
   "execution_count": 12,
   "metadata": {},
   "outputs": [
    {
     "name": "stdout",
     "output_type": "stream",
     "text": [
      "{'question1': '艾滋患者能用可善挺吗？', 'question2': 'JUNCTURE研究', 'label': 0}\n",
      "{'question1': '年轻人怎么控制高血压', 'question2': '20岁得了高血压怎么办？', 'label': 1}\n"
     ]
    }
   ],
   "source": [
    "print(med_dataset_dict['train'][0])\n",
    "print(med_dataset_dict['train'][1])"
   ]
  },
  {
   "attachments": {},
   "cell_type": "markdown",
   "metadata": {},
   "source": [
    "我们发现 Med_QQpairs 数据集正好符合我们 `ScoredPairRecord` 的数据格式，只是字段名称是 `question1` 和 `question2`，我们只需要修改成 `sentence1` 和 `sentence2` 就可以直接进行微调了"
   ]
  },
  {
   "cell_type": "code",
   "execution_count": 14,
   "metadata": {},
   "outputs": [
    {
     "name": "stderr",
     "output_type": "stream",
     "text": [
      "Found cached dataset csv (/Users/wangyuxin/.cache/huggingface/datasets/vegaviazhang___csv/vegaviazhang--Med_QQpairs-20636c66bb12bff6/0.0.0/eea64c71ca8b46dd3f537ed218fc9bf495d5707789152eb2764f5c78fa66d59d)\n",
      "100%|██████████| 1/1 [00:00<00:00, 1016.31it/s]\n",
      "No validation dataset found in dataset_dict, validation dataset key should be either \"dev\" or \"validation\"\n"
     ]
    },
    {
     "name": "stdout",
     "output_type": "stream",
     "text": [
      "Start with seed: 42\n",
      "Output dir: finetuned-model\n",
      "Start training for 1 epochs\n"
     ]
    },
    {
     "name": "stderr",
     "output_type": "stream",
     "text": [
      "Epoch 1/1 - loss: 4.7045: 100%|██████████| 31/31 [00:05<00:00,  6.15it/s]\n"
     ]
    },
    {
     "name": "stdout",
     "output_type": "stream",
     "text": [
      "Training finished\n",
      "Saving model\n"
     ]
    }
   ],
   "source": [
    "from datasets import load_dataset\n",
    "\n",
    "from uniem.finetuner import FineTuner\n",
    "\n",
    "dataset = load_dataset('vegaviazhang/Med_QQpairs')\n",
    "dataset = dataset.rename_columns({'question1': 'sentence1', 'question2': 'sentence2'})\n",
    "# 指定训练的模型为 m3e-small\n",
    "finetuner = FineTuner('moka-ai/m3e-small', dataset=dataset)\n",
    "finetuner.run(epochs=1)"
   ]
  },
  {
   "cell_type": "markdown",
   "metadata": {},
   "source": [
    "训练过程完成后，会自动保存模型到 finetuned-model 目录下"
   ]
  },
  {
   "cell_type": "code",
   "execution_count": 15,
   "metadata": {},
   "outputs": [
    {
     "name": "stdout",
     "output_type": "stream",
     "text": [
      "config.json             special_tokens_map.json tokenizer_config.json\n",
      "pytorch_model.bin       tokenizer.json          vocab.txt\n"
     ]
    }
   ],
   "source": [
    "!ls finetuned-model/model"
   ]
  },
  {
   "attachments": {},
   "cell_type": "markdown",
   "metadata": {},
   "source": [
    "## 示例：猜谜\n",
    "\n",
    "现在我们要对一个猜谜的数据集进行微调，这个数据集是通过 json line 的形式存储的，让我先看看数据格式吧。"
   ]
  },
  {
   "cell_type": "code",
   "execution_count": 17,
   "metadata": {},
   "outputs": [
    {
     "name": "stdout",
     "output_type": "stream",
     "text": [
      "{'instruction': '猜谜语：一身卷卷细毛，吃的青青野草，过了数九寒冬，无私献出白毛。 （打一动物）', 'output': '谜底：白羊'}\n",
      "{'instruction': '猜谜语：纸袋是它房，枕头搁身上；泡进开水里，身软味道香。 （打一食物）', 'output': '谜底：快餐面'}\n"
     ]
    }
   ],
   "source": [
    "import pandas as pd\n",
    "\n",
    "df = pd.read_json('example_data/riddle.jsonl', lines=True)\n",
    "records = df.to_dict('records')\n",
    "print(records[0])\n",
    "print(records[1])"
   ]
  },
  {
   "attachments": {},
   "cell_type": "markdown",
   "metadata": {},
   "source": [
    "这个数据集中，我们有 `instruction` 和 `output` ，我们可以把这两者看成一个相似句对。这是一个典型的 `PairRecord` 数据集。\n",
    "\n",
    "`PairRecord` 需要 `text` 和 `text_pos` 两个字段，因此我们需要对数据集的字段进行重新命名，以符合 `PairRecord` 的格式。"
   ]
  },
  {
   "cell_type": "code",
   "execution_count": 18,
   "metadata": {},
   "outputs": [
    {
     "name": "stdout",
     "output_type": "stream",
     "text": [
      "Start with seed: 42\n",
      "Output dir: finetuned-model-riddle\n",
      "Start training for 1 epochs\n"
     ]
    },
    {
     "name": "stderr",
     "output_type": "stream",
     "text": [
      "Epoch 1/1 - loss: 2.8364: 100%|██████████| 31/31 [00:05<00:00,  5.99it/s]\n"
     ]
    },
    {
     "name": "stdout",
     "output_type": "stream",
     "text": [
      "Training finished\n",
      "Saving model\n"
     ]
    }
   ],
   "source": [
    "import pandas as pd\n",
    "\n",
    "from uniem.finetuner import FineTuner\n",
    "\n",
    "# 读取 jsonl 文件\n",
    "df = pd.read_json('example_data/riddle.jsonl', lines=True)\n",
    "# 重新命名\n",
    "df = df.rename(columns={'instruction': 'text', 'output': 'text_pos'})\n",
    "# 指定训练的模型为 m3e-small\n",
    "finetuner = FineTuner('moka-ai/m3e-small', dataset=df.to_dict('records'))\n",
    "finetuner.run(epochs=1, output_dir='finetuned-model-riddle')"
   ]
  },
  {
   "attachments": {},
   "cell_type": "markdown",
   "metadata": {},
   "source": [
    "上面的两个示例分别展示了对 jsonl 本地 `PairRecord` 类型数据集，以及 huggingface 远程 `ScoredPair` 类型数据集的读取和训练过程。`TripletRecord` 类型的数据集的读取和训练过程与 `PairRecord` 类型的数据集的读取和训练过程类似，这里就不再赘述了。\n",
    "\n",
    "也就是说，你只要构造了符合 `uniem` 支持的数据格式的数据集，就可以使用 `FineTuner` 对你的模型进行微调了。\n",
    "\n",
    "`FineTuner` 接受的 dataset 参数，只要是可以迭代的产生有指定格式的字典 `dict` 就行了，所以上述示例分别使用 `datasets.DatasetDict` 和 `list[dict]` 两种数据格式。"
   ]
  }
 ],
 "metadata": {
  "kernelspec": {
   "display_name": "uniem",
   "language": "python",
   "name": "python3"
  },
  "language_info": {
   "codemirror_mode": {
    "name": "ipython",
    "version": 3
   },
   "file_extension": ".py",
   "mimetype": "text/x-python",
   "name": "python",
   "nbconvert_exporter": "python",
   "pygments_lexer": "ipython3",
   "version": "3.10.11"
  },
  "orig_nbformat": 4
 },
 "nbformat": 4,
 "nbformat_minor": 2
}
